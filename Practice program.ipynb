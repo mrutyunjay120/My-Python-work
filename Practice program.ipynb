{
 "cells": [
  {
   "cell_type": "markdown",
   "id": "b6d30104",
   "metadata": {},
   "source": [
    "## Palindrome or not"
   ]
  },
  {
   "cell_type": "code",
   "execution_count": 4,
   "id": "63bdfff2",
   "metadata": {},
   "outputs": [
    {
     "name": "stdout",
     "output_type": "stream",
     "text": [
      "enter a number23\n",
      "not a palindrome num\n",
      "None\n"
     ]
    }
   ],
   "source": [
    "def pal(num):\n",
    "    x = num[::-1]\n",
    "    if x ==num:\n",
    "        print(\"Palindrome num\")\n",
    "    else:\n",
    "        print(\"not a palindrome num\")\n",
    "num= input(\"enter a number\")\n",
    "print(pal(num))"
   ]
  },
  {
   "cell_type": "markdown",
   "id": "7ccc4748",
   "metadata": {},
   "source": [
    "## Factorial Program"
   ]
  },
  {
   "cell_type": "code",
   "execution_count": 10,
   "id": "21f167b6",
   "metadata": {},
   "outputs": [
    {
     "name": "stdout",
     "output_type": "stream",
     "text": [
      "120\n"
     ]
    }
   ],
   "source": [
    "def fact(num):\n",
    "    if num == 1:\n",
    "        return num\n",
    "    else:\n",
    "        return num * fact(num-1)\n",
    "print(fact(5))"
   ]
  },
  {
   "cell_type": "markdown",
   "id": "9e4e6db1",
   "metadata": {},
   "source": [
    "## Fibonanci series"
   ]
  },
  {
   "cell_type": "code",
   "execution_count": 13,
   "id": "d32a6300",
   "metadata": {},
   "outputs": [
    {
     "name": "stdout",
     "output_type": "stream",
     "text": [
      "enter fst number: 0\n",
      "enter 2nd number: 1\n",
      "Enter the length of list: 10\n",
      "0 1 1 2 3 5 8 13 21 34 "
     ]
    }
   ],
   "source": [
    "a = int(input(\"enter fst number: \"))\n",
    "b= int(input(\"enter 2nd number: \"))\n",
    "n= int(input(\"Enter the length of list: \"))\n",
    "print(a,b,end=\" \")\n",
    "while n-2:\n",
    "    c=a+b\n",
    "    a=b\n",
    "    b=c\n",
    "    n=n-1\n",
    "    print(c,end=\" \")"
   ]
  },
  {
   "cell_type": "markdown",
   "id": "59eadb03",
   "metadata": {},
   "source": [
    "## Armstrong num or not"
   ]
  },
  {
   "cell_type": "markdown",
   "id": "e56aaf03",
   "metadata": {},
   "source": [
    "#### sum of the cube of all the digits is equal to that Number"
   ]
  },
  {
   "cell_type": "code",
   "execution_count": 8,
   "id": "8c633e96",
   "metadata": {},
   "outputs": [
    {
     "name": "stdout",
     "output_type": "stream",
     "text": [
      "Enter a number: 153\n",
      "3\n",
      "s 27\n",
      "tmp 15\n",
      "5\n",
      "s 152\n",
      "tmp 1\n",
      "1\n",
      "s 153\n",
      "tmp 0\n",
      "Armstrong num\n"
     ]
    }
   ],
   "source": [
    "num = int(input(\"Enter a number: \"))\n",
    "s= 0\n",
    "temp = num\n",
    "while temp>0:\n",
    "    c = temp %10\n",
    "    s += c**3\n",
    "    temp//=10\n",
    "    print(c)\n",
    "    print(\"s\",s)\n",
    "    print(\"tmp\",temp)\n",
    "if num == s:\n",
    "    print(\"Armstrong num\")\n",
    "else:\n",
    "    print(\"not a armstrong number\")"
   ]
  },
  {
   "cell_type": "markdown",
   "id": "b7f79b6c",
   "metadata": {},
   "source": [
    "## print star\n"
   ]
  },
  {
   "cell_type": "code",
   "execution_count": 17,
   "id": "0eb81afc",
   "metadata": {},
   "outputs": [
    {
     "name": "stdout",
     "output_type": "stream",
     "text": [
      "enter the number: 9\n",
      "\n",
      "*\n",
      "**\n",
      "***\n",
      "****\n",
      "*****\n",
      "******\n",
      "*******\n",
      "********\n",
      "*********\n"
     ]
    }
   ],
   "source": [
    "num = int(input(\"enter the number: \"))\n",
    "for i in range(0,num+1):\n",
    "    outpt= \"*\"* i\n",
    "    print(outpt)"
   ]
  },
  {
   "cell_type": "markdown",
   "id": "202aa6cc",
   "metadata": {},
   "source": [
    "## Prime number or Not"
   ]
  },
  {
   "cell_type": "code",
   "execution_count": 27,
   "id": "30eedf3f",
   "metadata": {},
   "outputs": [
    {
     "name": "stdout",
     "output_type": "stream",
     "text": [
      "Enter the number to check: 18\n",
      "2\n",
      "Not a prime number\n"
     ]
    }
   ],
   "source": [
    "n = int(input(\"Enter the number to check: \"))\n",
    "for i in range(2,n):\n",
    "    \n",
    "    if n % i==0:\n",
    "        print(i)\n",
    "        print(\"Not a prime number\")\n",
    "        break\n",
    "    else:\n",
    "        print(\"prime number\")\n",
    "        break"
   ]
  },
  {
   "cell_type": "code",
   "execution_count": null,
   "id": "7a5c22d4",
   "metadata": {},
   "outputs": [],
   "source": []
  }
 ],
 "metadata": {
  "kernelspec": {
   "display_name": "Python 3",
   "language": "python",
   "name": "python3"
  },
  "language_info": {
   "codemirror_mode": {
    "name": "ipython",
    "version": 3
   },
   "file_extension": ".py",
   "mimetype": "text/x-python",
   "name": "python",
   "nbconvert_exporter": "python",
   "pygments_lexer": "ipython3",
   "version": "3.8.10"
  }
 },
 "nbformat": 4,
 "nbformat_minor": 5
}
