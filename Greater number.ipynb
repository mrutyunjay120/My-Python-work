{
 "cells": [
  {
   "cell_type": "code",
   "execution_count": 11,
   "id": "8bcab518",
   "metadata": {},
   "outputs": [
    {
     "name": "stdout",
     "output_type": "stream",
     "text": [
      "Enter the 1st number: 66\n",
      "Enter the 2nd number: 11\n",
      "Enter the 3rd number: 23\n",
      "mum1 is greater:  66\n"
     ]
    }
   ],
   "source": [
    "num1 = int(input(\"Enter the 1st number: \"))\n",
    "num2 = int(input(\"Enter the 2nd number: \"))\n",
    "num3 = int(input(\"Enter the 3rd number: \"))\n",
    "\n",
    "if num1 > num2 and num1 > num3:\n",
    "    print(\"mum1 is greater: \", num1)\n",
    "elif num2 > num1 and num2 > num3:\n",
    "    print (\"num2 is greater: \",num2)\n",
    "else:\n",
    "    print(\"num3 is greater: \",num3)\n"
   ]
  },
  {
   "cell_type": "code",
   "execution_count": 23,
   "id": "a0476f54",
   "metadata": {},
   "outputs": [
    {
     "name": "stdout",
     "output_type": "stream",
     "text": [
      "a is greater:  82\n"
     ]
    }
   ],
   "source": [
    "def maximum(a,b,c):\n",
    "    if a > b and a>c:\n",
    "        print(\"a is greater: \",a)\n",
    "    elif b >a and b > c:\n",
    "        print(\"b is greater: \",b)\n",
    "    else:\n",
    "        print(\"c is greater: \",c)\n",
    "a=82\n",
    "b=34\n",
    "c=45\n",
    "maximum(a,b,c)"
   ]
  },
  {
   "cell_type": "code",
   "execution_count": null,
   "id": "8d25f912",
   "metadata": {},
   "outputs": [],
   "source": []
  }
 ],
 "metadata": {
  "kernelspec": {
   "display_name": "Python 3",
   "language": "python",
   "name": "python3"
  },
  "language_info": {
   "codemirror_mode": {
    "name": "ipython",
    "version": 3
   },
   "file_extension": ".py",
   "mimetype": "text/x-python",
   "name": "python",
   "nbconvert_exporter": "python",
   "pygments_lexer": "ipython3",
   "version": "3.8.10"
  }
 },
 "nbformat": 4,
 "nbformat_minor": 5
}
