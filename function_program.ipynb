{
 "cells": [
  {
   "cell_type": "markdown",
   "id": "ad37a36a",
   "metadata": {},
   "source": [
    "## Program to find the power"
   ]
  },
  {
   "cell_type": "code",
   "execution_count": 27,
   "id": "0e89fcd4",
   "metadata": {},
   "outputs": [
    {
     "name": "stdout",
     "output_type": "stream",
     "text": [
      "Enter the number: 9\n",
      "Enter the power of number: 2\n",
      "Power of 9 is 81 \n"
     ]
    }
   ],
   "source": [
    "def pwr(N,P):\n",
    "    if P==0:\n",
    "        return 1\n",
    "    elif P==1:\n",
    "        return N\n",
    "    else:\n",
    "        return N**P\n",
    "N=int(input(\"Enter the number: \"))\n",
    "P= int(input(\"Enter the power of number: \"))\n",
    "print(f\"Power of {N} is {pwr(N,P)} \")\n",
    "    "
   ]
  },
  {
   "cell_type": "markdown",
   "id": "5fe73a48",
   "metadata": {},
   "source": [
    "## Concatenate String"
   ]
  },
  {
   "cell_type": "code",
   "execution_count": 41,
   "id": "883f5d39",
   "metadata": {},
   "outputs": [
    {
     "name": "stdout",
     "output_type": "stream",
     "text": [
      "after concatenate MM,32\n"
     ]
    }
   ],
   "source": [
    "def concat(name,num):\n",
    "    print(\"after concatenate \"+ str(name)+ ',' + str(num))\n",
    "concat(\"MM\", \"32\")"
   ]
  },
  {
   "cell_type": "code",
   "execution_count": null,
   "id": "9fa91806",
   "metadata": {},
   "outputs": [],
   "source": []
  },
  {
   "cell_type": "code",
   "execution_count": null,
   "id": "7c6522b0",
   "metadata": {},
   "outputs": [],
   "source": []
  }
 ],
 "metadata": {
  "kernelspec": {
   "display_name": "Python 3",
   "language": "python",
   "name": "python3"
  },
  "language_info": {
   "codemirror_mode": {
    "name": "ipython",
    "version": 3
   },
   "file_extension": ".py",
   "mimetype": "text/x-python",
   "name": "python",
   "nbconvert_exporter": "python",
   "pygments_lexer": "ipython3",
   "version": "3.8.10"
  }
 },
 "nbformat": 4,
 "nbformat_minor": 5
}
