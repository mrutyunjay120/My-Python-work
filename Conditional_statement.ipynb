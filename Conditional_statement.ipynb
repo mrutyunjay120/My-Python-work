{
 "cells": [
  {
   "cell_type": "code",
   "execution_count": 3,
   "id": "8536c940",
   "metadata": {},
   "outputs": [
    {
     "name": "stdout",
     "output_type": "stream",
     "text": [
      " please add the value of temp: 34\n",
      "It was very hot\n",
      "Dont out rom house\n",
      "done\n",
      "its ok\n"
     ]
    }
   ],
   "source": [
    "temperature = int(input(' please add the value of temp: '))\n",
    "if temperature > 30:\n",
    "    print(\"It was very hot\")\n",
    "    print(\"Dont out from house\")\n",
    "print(\"done\")\n",
    "print(\"its ok\") "
   ]
  },
  {
   "cell_type": "code",
   "execution_count": 8,
   "id": "3f65016e",
   "metadata": {},
   "outputs": [
    {
     "name": "stdout",
     "output_type": "stream",
     "text": [
      " please add the value of temp: 12\n",
      "its very cold day\n",
      "done\n"
     ]
    }
   ],
   "source": [
    "temperature = int(input(' please add the value of temp: '))\n",
    "if temperature > 30:\n",
    "    print(\"it is warm\")\n",
    "    print(\"drink water\")\n",
    "elif temperature > 20:\n",
    "    print(\"it is nice day\")\n",
    "elif temperature < 20:\n",
    "    print('its very cold day')\n",
    "print(\"done\")"
   ]
  },
  {
   "cell_type": "code",
   "execution_count": 14,
   "id": "9d637f9d",
   "metadata": {},
   "outputs": [
    {
     "name": "stdout",
     "output_type": "stream",
     "text": [
      "its ohk\n",
      "done\n"
     ]
    }
   ],
   "source": [
    "temperature = 18\n",
    "if temperature > 30:\n",
    "    print(\"it is warm\")\n",
    "    print(\"drink water\")\n",
    "elif temperature > 20:\n",
    "    print(\"it is nice day\")\n",
    "else:\n",
    "    print(\"its ohk\")\n",
    "print(\"done\")"
   ]
  },
  {
   "cell_type": "code",
   "execution_count": 11,
   "id": "0a3ac06a",
   "metadata": {},
   "outputs": [
    {
     "name": "stdout",
     "output_type": "stream",
     "text": [
      "it was a nice day\n",
      "done\n"
     ]
    }
   ],
   "source": [
    "temperature = 18\n",
    "if temperature > 30:\n",
    "    print(\"it is warm\")\n",
    "    print(\"drink water\")\n",
    "elif temperature < 20:\n",
    "    print(\"it was a nice day\")\n",
    "print(\"done\")"
   ]
  },
  {
   "cell_type": "code",
   "execution_count": 12,
   "id": "03eb8309",
   "metadata": {},
   "outputs": [
    {
     "name": "stdout",
     "output_type": "stream",
     "text": [
      "its a cold day\n"
     ]
    }
   ],
   "source": [
    "temperature = 18\n",
    "message = \"it is a nice day\" if temperature >= 20 else \"its a cold day\"\n",
    "print(message)"
   ]
  },
  {
   "cell_type": "code",
   "execution_count": 13,
   "id": "de79f237",
   "metadata": {},
   "outputs": [
    {
     "name": "stdout",
     "output_type": "stream",
     "text": [
      "Enter the Age: 34\n",
      "Eligible for vote\n"
     ]
    }
   ],
   "source": [
    "age = int(input(\"Enter the Age: \"))\n",
    "msg = \"Eligible for vote\" if age >= 18 else \"Person is not eligible\"\n",
    "print(msg)"
   ]
  },
  {
   "cell_type": "code",
   "execution_count": null,
   "id": "df8f5947",
   "metadata": {},
   "outputs": [],
   "source": []
  }
 ],
 "metadata": {
  "kernelspec": {
   "display_name": "Python 3",
   "language": "python",
   "name": "python3"
  },
  "language_info": {
   "codemirror_mode": {
    "name": "ipython",
    "version": 3
   },
   "file_extension": ".py",
   "mimetype": "text/x-python",
   "name": "python",
   "nbconvert_exporter": "python",
   "pygments_lexer": "ipython3",
   "version": "3.8.10"
  }
 },
 "nbformat": 4,
 "nbformat_minor": 5
}
