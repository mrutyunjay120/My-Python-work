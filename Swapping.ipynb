{
 "cells": [
  {
   "cell_type": "code",
   "execution_count": 2,
   "id": "6cf7bcdf",
   "metadata": {
    "scrolled": true
   },
   "outputs": [
    {
     "name": "stdout",
     "output_type": "stream",
     "text": [
      "Enter 1st Number: 23\n",
      "Enter 2nd Number: 45\n",
      "after swapping 1st number is 45\n",
      "after swapping 2nd number is 23\n"
     ]
    }
   ],
   "source": [
    "x=int(input(\"Enter 1st Number: \"))\n",
    "y= int(input(\"Enter 2nd Number: \"))\n",
    "temp=x\n",
    "x=y\n",
    "y=temp\n",
    "print(f\"after swapping 1st number is {x}\")\n",
    "print(f\"after swapping 2nd number is {y}\")"
   ]
  },
  {
   "cell_type": "markdown",
   "id": "5c95c8f8",
   "metadata": {},
   "source": [
    "## Swapping element in list"
   ]
  },
  {
   "cell_type": "code",
   "execution_count": 25,
   "id": "034db58e",
   "metadata": {},
   "outputs": [
    {
     "name": "stdout",
     "output_type": "stream",
     "text": [
      "[10, 20, 30, 40, 50]\n",
      "5\n",
      "[40, 20, 30, 10, 50]\n"
     ]
    }
   ],
   "source": [
    "my_list = [10,20,30,40,50]\n",
    "print(my_list)\n",
    "size= len(my_list)\n",
    "print(size)\n",
    "temp=0\n",
    "temp= my_list[0]\n",
    "my_list[0]= my_list[3]\n",
    "my_list[3] = temp\n",
    "print(my_list)"
   ]
  },
  {
   "cell_type": "code",
   "execution_count": 18,
   "id": "de2f9ad0",
   "metadata": {},
   "outputs": [
    {
     "name": "stdout",
     "output_type": "stream",
     "text": [
      "[24, 35, 9, 56, 12]\n"
     ]
    }
   ],
   "source": [
    "newList = [12, 35, 9, 56, 24]\n",
    "def swapList(newList):\n",
    "    size = len(newList)\n",
    "   \n",
    "    temp = newList[0]\n",
    "    newList[0] = newList[size - 1]\n",
    "    newList[size - 1] = temp\n",
    "     \n",
    "    return newList\n",
    "\n",
    " \n",
    "print(swapList(newList))"
   ]
  },
  {
   "cell_type": "code",
   "execution_count": 36,
   "id": "024b5d4e",
   "metadata": {},
   "outputs": [
    {
     "name": "stdout",
     "output_type": "stream",
     "text": [
      "dict_keys(['1st', '2'])\n"
     ]
    }
   ],
   "source": [
    "mydict={\"1st\": \"12\", \"2\" : \"24\"}\n",
    "print(mydict.keys())"
   ]
  },
  {
   "cell_type": "code",
   "execution_count": 42,
   "id": "5ac4b8ba",
   "metadata": {},
   "outputs": [
    {
     "name": "stdout",
     "output_type": "stream",
     "text": [
      "10\n",
      "20\n",
      "[30, 40, 50]\n"
     ]
    }
   ],
   "source": [
    "list= [10,20,30,40,50]\n",
    "a, b , *c = list\n",
    "\n",
    "print(a)\n",
    "print(b)\n",
    "print(c)"
   ]
  },
  {
   "cell_type": "code",
   "execution_count": null,
   "id": "b60efbb3",
   "metadata": {},
   "outputs": [],
   "source": []
  }
 ],
 "metadata": {
  "kernelspec": {
   "display_name": "Python 3",
   "language": "python",
   "name": "python3"
  },
  "language_info": {
   "codemirror_mode": {
    "name": "ipython",
    "version": 3
   },
   "file_extension": ".py",
   "mimetype": "text/x-python",
   "name": "python",
   "nbconvert_exporter": "python",
   "pygments_lexer": "ipython3",
   "version": "3.8.10"
  }
 },
 "nbformat": 4,
 "nbformat_minor": 5
}
